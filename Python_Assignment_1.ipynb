{
  "cells": [
    {
      "cell_type": "markdown",
      "metadata": {
        "id": "view-in-github",
        "colab_type": "text"
      },
      "source": [
        "<a href=\"https://colab.research.google.com/github/TanVshinde/Assignment-1-Tanvi-Shinde/blob/main/Python_Assignment_1.ipynb\" target=\"_parent\"><img src=\"https://colab.research.google.com/assets/colab-badge.svg\" alt=\"Open In Colab\"/></a>"
      ]
    },
    {
      "cell_type": "markdown",
      "metadata": {
        "id": "o040gOXcyP-6"
      },
      "source": [
        "# Python Assignment - 1\n",
        "#Name: Tanvi Shinde\n",
        "### Total - 30 marks"
      ]
    },
    {
      "cell_type": "markdown",
      "metadata": {
        "id": "V7sRtH9hyP-8"
      },
      "source": [
        "## Variables and data types"
      ]
    },
    {
      "cell_type": "markdown",
      "metadata": {
        "id": "LlpZafM8yP-8"
      },
      "source": [
        "__Exercise 1 a)__ Create four variables and assign values with different data types to them"
      ]
    },
    {
      "cell_type": "code",
      "execution_count": null,
      "metadata": {
        "id": "PbZhMqzByP-9"
      },
      "outputs": [],
      "source": [
        "#int, float, String, boolean\n",
        "age = 20"
      ]
    },
    {
      "cell_type": "code",
      "execution_count": null,
      "metadata": {
        "id": "u82o0GWFyP-9"
      },
      "outputs": [],
      "source": [
        "height = 6.0"
      ]
    },
    {
      "cell_type": "code",
      "execution_count": null,
      "metadata": {
        "id": "C6cyFcq_yP--"
      },
      "outputs": [],
      "source": [
        "name = \"Priyanka\""
      ]
    },
    {
      "cell_type": "code",
      "execution_count": null,
      "metadata": {
        "id": "tUcYVnTIyP--"
      },
      "outputs": [],
      "source": [
        "is_writer = True"
      ]
    },
    {
      "cell_type": "markdown",
      "metadata": {
        "id": "pu8ooCJoyP--"
      },
      "source": [
        "__Exercise 1 b)__ Print the variables using Python's built-in function print(_String_)"
      ]
    },
    {
      "cell_type": "code",
      "execution_count": null,
      "metadata": {
        "colab": {
          "base_uri": "https://localhost:8080/"
        },
        "id": "x_cl7T-JyP--",
        "outputId": "09f1c8e0-bf69-43eb-d24e-64e6e2f5fc8e"
      },
      "outputs": [
        {
          "output_type": "stream",
          "name": "stdout",
          "text": [
            "age : 20\n"
          ]
        }
      ],
      "source": [
        "print(\"age :\", age)"
      ]
    },
    {
      "cell_type": "code",
      "execution_count": null,
      "metadata": {
        "colab": {
          "base_uri": "https://localhost:8080/"
        },
        "id": "hN9LMuWWyP--",
        "outputId": "85edc551-aa0a-4fad-cf7b-ce1ce3b34414"
      },
      "outputs": [
        {
          "output_type": "stream",
          "name": "stdout",
          "text": [
            "height : 6.0\n"
          ]
        }
      ],
      "source": [
        "print(\"height :\",height)"
      ]
    },
    {
      "cell_type": "code",
      "execution_count": null,
      "metadata": {
        "id": "Sf4q5dUyyP--",
        "colab": {
          "base_uri": "https://localhost:8080/"
        },
        "outputId": "0aa66a97-bf7c-47ff-e20a-c446d9574c24"
      },
      "outputs": [
        {
          "output_type": "stream",
          "name": "stdout",
          "text": [
            "name : Priyanka\n"
          ]
        }
      ],
      "source": [
        "print(\"name :\", name)"
      ]
    },
    {
      "cell_type": "code",
      "execution_count": null,
      "metadata": {
        "id": "cJ1w8cylyP--",
        "colab": {
          "base_uri": "https://localhost:8080/"
        },
        "outputId": "c4ef232a-9042-4d47-b032-2c3fb1810e83"
      },
      "outputs": [
        {
          "output_type": "stream",
          "name": "stdout",
          "text": [
            "Is writer: True\n"
          ]
        }
      ],
      "source": [
        "print(\"Is writer:\", is_writer)"
      ]
    },
    {
      "cell_type": "markdown",
      "metadata": {
        "id": "kedHTwjRyP--"
      },
      "source": [
        "__Exercise 1 c)__ Print the data type of each variable using Python's built-in function type()"
      ]
    },
    {
      "cell_type": "code",
      "execution_count": null,
      "metadata": {
        "id": "pEpjaGXZyP--",
        "colab": {
          "base_uri": "https://localhost:8080/"
        },
        "outputId": "42ec3e28-705f-4a82-dd03-de3d6cd06336"
      },
      "outputs": [
        {
          "output_type": "stream",
          "name": "stdout",
          "text": [
            "data type of age is: <class 'int'>\n"
          ]
        }
      ],
      "source": [
        "print(\"data type of age is:\", type(age))"
      ]
    },
    {
      "cell_type": "code",
      "execution_count": null,
      "metadata": {
        "id": "E-cq6P5kyP-_",
        "colab": {
          "base_uri": "https://localhost:8080/"
        },
        "outputId": "963e355b-25a2-4aa9-ce0c-a8e2e1727a0e"
      },
      "outputs": [
        {
          "output_type": "stream",
          "name": "stdout",
          "text": [
            "data type of height is: <class 'float'>\n"
          ]
        }
      ],
      "source": [
        "print(\"data type of height is:\", type(height))"
      ]
    },
    {
      "cell_type": "code",
      "execution_count": null,
      "metadata": {
        "id": "-3kBJ2dTyP-_",
        "colab": {
          "base_uri": "https://localhost:8080/"
        },
        "outputId": "6ee5de36-8a8e-4145-9cbf-f00390fef981"
      },
      "outputs": [
        {
          "output_type": "stream",
          "name": "stdout",
          "text": [
            "data type of name is: <class 'str'>\n"
          ]
        }
      ],
      "source": [
        "print(\"data type of name is:\", type(name))"
      ]
    },
    {
      "cell_type": "code",
      "execution_count": null,
      "metadata": {
        "id": "SSd8YZDgyP-_",
        "colab": {
          "base_uri": "https://localhost:8080/"
        },
        "outputId": "54c61cad-7eed-40d0-b849-e3a071e9349f"
      },
      "outputs": [
        {
          "output_type": "stream",
          "name": "stdout",
          "text": [
            "data type of is_writer is: <class 'bool'>\n"
          ]
        }
      ],
      "source": [
        "print(\"data type of is_writer is:\", type(is_writer))"
      ]
    },
    {
      "cell_type": "markdown",
      "metadata": {
        "id": "aX7vt5m7yP-_"
      },
      "source": [
        "__Exercise 2__ How do we use variables? Explore with arithmetic operators (+, -, *, /)!"
      ]
    },
    {
      "cell_type": "markdown",
      "source": [],
      "metadata": {
        "id": "SF0jKmCqBkWn"
      }
    },
    {
      "cell_type": "code",
      "execution_count": null,
      "metadata": {
        "colab": {
          "base_uri": "https://localhost:8080/"
        },
        "id": "PFQcvc5oyP-_",
        "outputId": "7cf59507-484f-42fe-8314-bbfa2df439e8"
      },
      "outputs": [
        {
          "output_type": "stream",
          "name": "stdout",
          "text": [
            "8\n"
          ]
        }
      ],
      "source": [
        "# Example\n",
        "first_value = 3\n",
        "second_value = 5\n",
        "\n",
        "result = first_value + second_value\n",
        "print(result)"
      ]
    },
    {
      "cell_type": "code",
      "execution_count": null,
      "metadata": {
        "id": "0Gueorr9yP-_",
        "colab": {
          "base_uri": "https://localhost:8080/"
        },
        "outputId": "81b4a93c-bdf5-4c0b-c9aa-bb3a55aea3f9"
      },
      "outputs": [
        {
          "output_type": "stream",
          "name": "stdout",
          "text": [
            "4\n"
          ]
        }
      ],
      "source": [
        "first_value=9\n",
        "second_value=5\n",
        "\n",
        "result= first_value - second_value\n",
        "print(result)"
      ]
    },
    {
      "cell_type": "code",
      "execution_count": null,
      "metadata": {
        "id": "Wm0mRHFIyP-_",
        "colab": {
          "base_uri": "https://localhost:8080/"
        },
        "outputId": "990f05d9-b3f9-46ea-f7a3-23c70c3af9c2"
      },
      "outputs": [
        {
          "output_type": "stream",
          "name": "stdout",
          "text": [
            "50\n"
          ]
        }
      ],
      "source": [
        "first_value=10\n",
        "second_value=5\n",
        "\n",
        "result= first_value*second_value\n",
        "print(result)"
      ]
    },
    {
      "cell_type": "code",
      "execution_count": null,
      "metadata": {
        "id": "NBXHmLNuyP_A",
        "colab": {
          "base_uri": "https://localhost:8080/"
        },
        "outputId": "bbd95e4b-ded1-4e43-df01-3530734b31f0"
      },
      "outputs": [
        {
          "output_type": "stream",
          "name": "stdout",
          "text": [
            "3.0\n"
          ]
        }
      ],
      "source": [
        "first_value=6\n",
        "second_value=2\n",
        "\n",
        "result=first_value/second_value\n",
        "print(result)"
      ]
    },
    {
      "cell_type": "code",
      "execution_count": null,
      "metadata": {
        "id": "8PNaaA1myP_A",
        "colab": {
          "base_uri": "https://localhost:8080/"
        },
        "outputId": "45b97c46-c009-4400-91c7-83b0e4173cf4"
      },
      "outputs": [
        {
          "output_type": "stream",
          "name": "stdout",
          "text": [
            "9\n"
          ]
        }
      ],
      "source": [
        "first_value= 4\n",
        "second_value= 5\n",
        "\n",
        "result= first_value+second_value\n",
        "print(result)"
      ]
    },
    {
      "cell_type": "markdown",
      "metadata": {
        "id": "9WCDPj9UyP_A"
      },
      "source": [
        "## Example: Lists"
      ]
    },
    {
      "cell_type": "code",
      "execution_count": null,
      "metadata": {
        "id": "PC5QQDv4yP_A"
      },
      "outputs": [],
      "source": [
        "fruits = ['orange', 'apple', 'pear', 'banana', 'kiwi', 'mango', 'grapes']"
      ]
    },
    {
      "cell_type": "code",
      "execution_count": null,
      "metadata": {
        "id": "rrLA2UxQyP_A",
        "outputId": "3c983d04-d907-4262-8d9c-8dddabd6b3a9",
        "colab": {
          "base_uri": "https://localhost:8080/",
          "height": 35
        }
      },
      "outputs": [
        {
          "output_type": "execute_result",
          "data": {
            "text/plain": [
              "'orange'"
            ],
            "application/vnd.google.colaboratory.intrinsic+json": {
              "type": "string"
            }
          },
          "metadata": {},
          "execution_count": 32
        }
      ],
      "source": [
        "fruits[0]"
      ]
    },
    {
      "cell_type": "code",
      "execution_count": null,
      "metadata": {
        "id": "yh6g8AxnyP_A",
        "outputId": "6671a490-5d33-434e-b614-983e3699b2a1",
        "colab": {
          "base_uri": "https://localhost:8080/",
          "height": 35
        }
      },
      "outputs": [
        {
          "output_type": "execute_result",
          "data": {
            "text/plain": [
              "'apple'"
            ],
            "application/vnd.google.colaboratory.intrinsic+json": {
              "type": "string"
            }
          },
          "metadata": {},
          "execution_count": 33
        }
      ],
      "source": [
        "fruits[1]"
      ]
    },
    {
      "cell_type": "code",
      "execution_count": null,
      "metadata": {
        "id": "jELLlUIWyP_A",
        "outputId": "ee8ae159-14e9-4b36-9e41-49538553aee5",
        "colab": {
          "base_uri": "https://localhost:8080/",
          "height": 35
        }
      },
      "outputs": [
        {
          "output_type": "execute_result",
          "data": {
            "text/plain": [
              "'grapes'"
            ],
            "application/vnd.google.colaboratory.intrinsic+json": {
              "type": "string"
            }
          },
          "metadata": {},
          "execution_count": 34
        }
      ],
      "source": [
        "fruits[-1]"
      ]
    },
    {
      "cell_type": "markdown",
      "metadata": {
        "id": "PJqYVSsryP_C"
      },
      "source": [
        "We can also specify a range of indexes specifying where to start and end the range"
      ]
    },
    {
      "cell_type": "code",
      "execution_count": null,
      "metadata": {
        "id": "1bXYQIBCyP_D",
        "outputId": "d2d4f744-d9c6-4ff4-e65b-e1fa97201a99"
      },
      "outputs": [
        {
          "data": {
            "text/plain": [
              "['pear', 'banana', 'kiwi']"
            ]
          },
          "execution_count": 7,
          "metadata": {},
          "output_type": "execute_result"
        }
      ],
      "source": [
        "fruits[2:5]"
      ]
    },
    {
      "cell_type": "code",
      "execution_count": null,
      "metadata": {
        "id": "opqslgXpyP_D",
        "outputId": "f28b7c25-716f-4e8c-beb3-1051fc95cd23",
        "colab": {
          "base_uri": "https://localhost:8080/"
        }
      },
      "outputs": [
        {
          "output_type": "execute_result",
          "data": {
            "text/plain": [
              "['pear', 'banana', 'kiwi', 'mango', 'grapes']"
            ]
          },
          "metadata": {},
          "execution_count": 37
        }
      ],
      "source": [
        "fruits[2:]"
      ]
    },
    {
      "cell_type": "code",
      "execution_count": null,
      "metadata": {
        "id": "pY3n2094yP_D",
        "outputId": "58baa7c2-ae9f-4293-bfb0-952294be8d58",
        "colab": {
          "base_uri": "https://localhost:8080/"
        }
      },
      "outputs": [
        {
          "output_type": "execute_result",
          "data": {
            "text/plain": [
              "['orange', 'apple']"
            ]
          },
          "metadata": {},
          "execution_count": 36
        }
      ],
      "source": [
        "fruits[:2]"
      ]
    },
    {
      "cell_type": "markdown",
      "metadata": {
        "id": "G98j5sPByP_D"
      },
      "source": [
        "__Exercise 3 a)__ Create a list with names of your friends and print the name of the first, second and last person"
      ]
    },
    {
      "cell_type": "code",
      "source": [
        "My_Friends= ['anju', 'neha','manisha', 'vidya', 'sonal', 'varsha']\n"
      ],
      "metadata": {
        "id": "ihthv-SpIYkl"
      },
      "execution_count": null,
      "outputs": []
    },
    {
      "cell_type": "code",
      "source": [
        "My_Friends[0]"
      ],
      "metadata": {
        "colab": {
          "base_uri": "https://localhost:8080/",
          "height": 35
        },
        "id": "4WZlb_rHJDxD",
        "outputId": "432266c1-4ce8-496a-ef0c-164ee53cbaff"
      },
      "execution_count": null,
      "outputs": [
        {
          "output_type": "execute_result",
          "data": {
            "text/plain": [
              "'anju'"
            ],
            "application/vnd.google.colaboratory.intrinsic+json": {
              "type": "string"
            }
          },
          "metadata": {},
          "execution_count": 55
        }
      ]
    },
    {
      "cell_type": "code",
      "source": [
        "My_Friends[1]"
      ],
      "metadata": {
        "colab": {
          "base_uri": "https://localhost:8080/",
          "height": 35
        },
        "id": "oiGKnyE7Ji8D",
        "outputId": "ee18864b-13e3-4987-ee6f-a988fb8a58b5"
      },
      "execution_count": null,
      "outputs": [
        {
          "output_type": "execute_result",
          "data": {
            "text/plain": [
              "'neha'"
            ],
            "application/vnd.google.colaboratory.intrinsic+json": {
              "type": "string"
            }
          },
          "metadata": {},
          "execution_count": 56
        }
      ]
    },
    {
      "cell_type": "code",
      "source": [
        "My_Friends[-1]"
      ],
      "metadata": {
        "colab": {
          "base_uri": "https://localhost:8080/",
          "height": 35
        },
        "id": "rPaPVug6J5f-",
        "outputId": "401f605c-e427-4a36-ed57-5531c0a8457c"
      },
      "execution_count": null,
      "outputs": [
        {
          "output_type": "execute_result",
          "data": {
            "text/plain": [
              "'varsha'"
            ],
            "application/vnd.google.colaboratory.intrinsic+json": {
              "type": "string"
            }
          },
          "metadata": {},
          "execution_count": 57
        }
      ]
    },
    {
      "cell_type": "markdown",
      "metadata": {
        "id": "3ZByCNKyyP_D"
      },
      "source": [
        "__Exercise 3 b)__ Print your list of names using different ranges"
      ]
    },
    {
      "cell_type": "code",
      "execution_count": null,
      "metadata": {
        "id": "SLfPVzQ4yP_D",
        "colab": {
          "base_uri": "https://localhost:8080/"
        },
        "outputId": "1c1cf308-c6db-4cea-cfe6-1f62baf040fd"
      },
      "outputs": [
        {
          "output_type": "execute_result",
          "data": {
            "text/plain": [
              "['anju', 'neha', 'manisha', 'vidya', 'sonal', 'varsha']"
            ]
          },
          "metadata": {},
          "execution_count": 58
        }
      ],
      "source": [
        "My_Friends[0:6]"
      ]
    },
    {
      "cell_type": "code",
      "execution_count": null,
      "metadata": {
        "id": "gCa95oYUyP_D",
        "colab": {
          "base_uri": "https://localhost:8080/"
        },
        "outputId": "bd2ef2ad-f539-4dd5-aed1-8f34e54b84a0"
      },
      "outputs": [
        {
          "output_type": "execute_result",
          "data": {
            "text/plain": [
              "['neha', 'manisha', 'vidya', 'sonal']"
            ]
          },
          "metadata": {},
          "execution_count": 59
        }
      ],
      "source": [
        "My_Friends[1:5]"
      ]
    },
    {
      "cell_type": "code",
      "source": [
        "My_Friends[2:5]"
      ],
      "metadata": {
        "colab": {
          "base_uri": "https://localhost:8080/"
        },
        "id": "L_KvSZYuKUGb",
        "outputId": "34c42c3f-2b83-4b5f-de8f-c3f4354d5161"
      },
      "execution_count": null,
      "outputs": [
        {
          "output_type": "execute_result",
          "data": {
            "text/plain": [
              "['manisha', 'vidya', 'sonal']"
            ]
          },
          "metadata": {},
          "execution_count": 60
        }
      ]
    },
    {
      "cell_type": "markdown",
      "metadata": {
        "id": "3ffeTeD8yP_D"
      },
      "source": [
        "__Exercise 4 a)__ Count how many names you have added to the list using len(_[...]_)"
      ]
    },
    {
      "cell_type": "code",
      "execution_count": null,
      "metadata": {
        "id": "iXslZhgzyP_D",
        "colab": {
          "base_uri": "https://localhost:8080/"
        },
        "outputId": "2301abe9-15b4-4287-f864-0df86a779a96"
      },
      "outputs": [
        {
          "output_type": "execute_result",
          "data": {
            "text/plain": [
              "6"
            ]
          },
          "metadata": {},
          "execution_count": 62
        }
      ],
      "source": [
        "len(My_Friends)"
      ]
    },
    {
      "cell_type": "markdown",
      "metadata": {
        "id": "4ZlszBqmyP_E"
      },
      "source": [
        "__Exercise 4 b)__ Add a new name to your list using append(_item_)"
      ]
    },
    {
      "cell_type": "code",
      "execution_count": null,
      "metadata": {
        "id": "2Th_4CN3yP_F"
      },
      "outputs": [],
      "source": [
        "My_Friends.append('Rashmi')"
      ]
    },
    {
      "cell_type": "markdown",
      "metadata": {
        "id": "xQTLbej9yP_F"
      },
      "source": [
        "__Exercise 4 c)__ Print the list. Does it look as expected?"
      ]
    },
    {
      "cell_type": "code",
      "execution_count": null,
      "metadata": {
        "id": "xmGb7OdPyP_F",
        "colab": {
          "base_uri": "https://localhost:8080/"
        },
        "outputId": "426155c3-ff0d-4ef5-f147-bb1b57b437f0"
      },
      "outputs": [
        {
          "output_type": "stream",
          "name": "stdout",
          "text": [
            "['anju', 'neha', 'manisha', 'vidya', 'sonal', 'varsha', 'Rashmi']\n"
          ]
        }
      ],
      "source": [
        "print(My_Friends)"
      ]
    },
    {
      "cell_type": "code",
      "source": [
        "# yes. it looks as expected."
      ],
      "metadata": {
        "id": "layCM3g9NlZC"
      },
      "execution_count": null,
      "outputs": []
    },
    {
      "cell_type": "markdown",
      "metadata": {
        "id": "F3EogW15yP_F"
      },
      "source": [
        "__Exercise 4 d)__ Add a new name on the _third_ position in your list using insert(_position_, _item_)"
      ]
    },
    {
      "cell_type": "code",
      "execution_count": null,
      "metadata": {
        "id": "0Oq2_TDIyP_F"
      },
      "outputs": [],
      "source": [
        "My_Friends.insert(2,'Kavya')"
      ]
    },
    {
      "cell_type": "markdown",
      "metadata": {
        "id": "uk-_M9c8yP_F"
      },
      "source": [
        "__Exercise 4 e)__ Print the list. Does it look as expected?"
      ]
    },
    {
      "cell_type": "code",
      "execution_count": null,
      "metadata": {
        "id": "7VJxX59KyP_F",
        "colab": {
          "base_uri": "https://localhost:8080/"
        },
        "outputId": "ab0fb1ec-84f7-475e-e8bc-3d75960d4304"
      },
      "outputs": [
        {
          "output_type": "stream",
          "name": "stdout",
          "text": [
            "['anju', 'neha', 'Kavya', 'manisha', 'vidya', 'sonal', 'varsha', 'Rashmi']\n"
          ]
        }
      ],
      "source": [
        "print(My_Friends)"
      ]
    },
    {
      "cell_type": "code",
      "source": [
        "#yes, it looks as expected"
      ],
      "metadata": {
        "id": "ypyg2hdYOI8J"
      },
      "execution_count": null,
      "outputs": []
    },
    {
      "cell_type": "markdown",
      "metadata": {
        "id": "VkFagyPYyP_G"
      },
      "source": [
        "__Exercise 4 f)__ Remove a name from the list using remove(_item_)"
      ]
    },
    {
      "cell_type": "code",
      "execution_count": null,
      "metadata": {
        "id": "y6SYNZAeyP_G"
      },
      "outputs": [],
      "source": [
        "My_Friends.remove('neha')"
      ]
    },
    {
      "cell_type": "markdown",
      "metadata": {
        "id": "BkOn0uUyyP_G"
      },
      "source": [
        "__Exercise 4 g)__ Print the list. Does it look as expected?"
      ]
    },
    {
      "cell_type": "code",
      "execution_count": null,
      "metadata": {
        "id": "UE6DBYM-yP_G",
        "colab": {
          "base_uri": "https://localhost:8080/"
        },
        "outputId": "f563d17b-5a0c-4d2a-e7c6-3bbfe68aab7a"
      },
      "outputs": [
        {
          "output_type": "stream",
          "name": "stdout",
          "text": [
            "['anju', 'Kavya', 'manisha', 'vidya', 'sonal', 'varsha', 'Rashmi']\n"
          ]
        }
      ],
      "source": [
        "print(My_Friends)"
      ]
    },
    {
      "cell_type": "code",
      "source": [
        "#yes, it looks as expected"
      ],
      "metadata": {
        "id": "BbT-5_vnOUsI"
      },
      "execution_count": null,
      "outputs": []
    },
    {
      "cell_type": "markdown",
      "metadata": {
        "id": "9sFnbqDOyP_G"
      },
      "source": [
        "# Example: For loops"
      ]
    },
    {
      "cell_type": "code",
      "execution_count": null,
      "metadata": {
        "id": "dw0VbUgxyP_G",
        "outputId": "c009ab5b-8154-49e5-9410-297112eaafb6"
      },
      "outputs": [
        {
          "name": "stdout",
          "output_type": "stream",
          "text": [
            "orange\n",
            "apple\n",
            "pear\n",
            "banana\n",
            "kiwi\n",
            "mango\n",
            "grapes\n"
          ]
        }
      ],
      "source": [
        "for fruit in fruits:\n",
        "    print(fruit)"
      ]
    },
    {
      "cell_type": "code",
      "execution_count": null,
      "metadata": {
        "id": "utMl756yyP_G",
        "outputId": "37bf5e62-5b18-41c8-b24a-4b97739e2fe2"
      },
      "outputs": [
        {
          "name": "stdout",
          "output_type": "stream",
          "text": [
            "oranges\n",
            "apples\n",
            "pears\n",
            "bananas\n",
            "kiwis\n",
            "mangos\n",
            "grapess\n"
          ]
        }
      ],
      "source": [
        "for fruit in fruits:\n",
        "    fruit = fruit + 's'\n",
        "    print(fruit)"
      ]
    },
    {
      "cell_type": "markdown",
      "metadata": {
        "id": "TN5-4sNiyP_G"
      },
      "source": [
        "__Exercise 5 a)__ Print each name in your list of names"
      ]
    },
    {
      "cell_type": "code",
      "execution_count": null,
      "metadata": {
        "id": "qVUwX45HyP_H",
        "colab": {
          "base_uri": "https://localhost:8080/"
        },
        "outputId": "0179f7d1-b463-46d4-9fa9-e757f74c477a"
      },
      "outputs": [
        {
          "output_type": "stream",
          "name": "stdout",
          "text": [
            "['anju', 'neha', 'manisha', 'vidya', 'sonal', 'varsha', 'Rashmi', 'kavya']\n"
          ]
        }
      ],
      "source": [
        "names= [\"anju\", \"neha\", \"manisha\", \"vidya\", \"sonal\", \"varsha\", \"Rashmi\",\"kavya\"]\n",
        "print(names)"
      ]
    },
    {
      "cell_type": "markdown",
      "metadata": {
        "id": "UcZ4hmJPyP_H"
      },
      "source": [
        "__Exercise 5 b)__ Add a small change to each name in your list"
      ]
    },
    {
      "cell_type": "code",
      "source": [
        "modified_names= [name + \"_here\" for name in names]\n",
        "for modified_name in modified_names:\n",
        "  print(modified_name)\n",
        "\n"
      ],
      "metadata": {
        "colab": {
          "base_uri": "https://localhost:8080/"
        },
        "id": "JF3UCSfcsmtM",
        "outputId": "fa4f83d6-7795-43d6-f5ee-23ff803bbc64"
      },
      "execution_count": null,
      "outputs": [
        {
          "output_type": "stream",
          "name": "stdout",
          "text": [
            "anju_here\n",
            "neha_here\n",
            "manisha_here\n",
            "vidya_here\n",
            "sonal_here\n",
            "varsha_here\n",
            "Rashmi_here\n",
            "kavya_here\n"
          ]
        }
      ]
    },
    {
      "cell_type": "code",
      "execution_count": null,
      "metadata": {
        "id": "BuKoYWqfyP_H"
      },
      "outputs": [],
      "source": []
    },
    {
      "cell_type": "markdown",
      "metadata": {
        "id": "sz1CHwbRyP_H"
      },
      "source": [
        "# Example: Dictionaries"
      ]
    },
    {
      "cell_type": "code",
      "execution_count": null,
      "metadata": {
        "id": "0SdK3ZgsyP_H"
      },
      "outputs": [],
      "source": [
        "countries = {\"sweden\" : \"stockholm\", \"denmark\" : \"copenhagen\", \"norway\" : \"oslo\"}"
      ]
    },
    {
      "cell_type": "code",
      "execution_count": null,
      "metadata": {
        "id": "m1JilPAmyP_H",
        "outputId": "1fa08c62-0586-4807-bd74-dec2a638f084",
        "colab": {
          "base_uri": "https://localhost:8080/"
        }
      },
      "outputs": [
        {
          "output_type": "stream",
          "name": "stdout",
          "text": [
            "stockholm\n"
          ]
        }
      ],
      "source": [
        "capital = countries[\"sweden\"]\n",
        "print(capital)"
      ]
    },
    {
      "cell_type": "markdown",
      "metadata": {
        "id": "XCnsu_skyP_H"
      },
      "source": [
        "__Exercise 6 a)__ Get the capital of Denmark and Norway using the dictionary _countries_"
      ]
    },
    {
      "cell_type": "code",
      "execution_count": null,
      "metadata": {
        "id": "iwccIedgyP_H",
        "colab": {
          "base_uri": "https://localhost:8080/"
        },
        "outputId": "3afb0638-fb92-47a4-8d5b-96b7110a217c"
      },
      "outputs": [
        {
          "output_type": "stream",
          "name": "stdout",
          "text": [
            "copenhagen\n"
          ]
        }
      ],
      "source": [
        "capital= countries[\"denmark\"]\n",
        "print(capital)"
      ]
    },
    {
      "cell_type": "code",
      "source": [
        "capital= countries[\"norway\"]\n",
        "print(capital)"
      ],
      "metadata": {
        "colab": {
          "base_uri": "https://localhost:8080/"
        },
        "id": "9vG7Og1Bu1t_",
        "outputId": "0b0f750d-e8a5-46f3-a9c5-db43f2a55523"
      },
      "execution_count": null,
      "outputs": [
        {
          "output_type": "stream",
          "name": "stdout",
          "text": [
            "oslo\n"
          ]
        }
      ]
    },
    {
      "cell_type": "markdown",
      "metadata": {
        "id": "HwmTUzMPyP_H"
      },
      "source": [
        "__Exercise 6 b)__ Add a new key-value pair to the dictionary _countries_"
      ]
    },
    {
      "cell_type": "code",
      "execution_count": null,
      "metadata": {
        "id": "ypBJRpknyP_I"
      },
      "outputs": [],
      "source": [
        "countries[\"India\"]= \"New Delhi\"\n",
        "countries[\"China\"]= \"Beijing\"\n",
        "countries[\"USA\"]= \"washington\""
      ]
    },
    {
      "cell_type": "markdown",
      "metadata": {
        "id": "QQK-wu34yP_I"
      },
      "source": [
        "__Exercise 6 c)__ Print the dictionary. Does it look as expected?"
      ]
    },
    {
      "cell_type": "code",
      "execution_count": null,
      "metadata": {
        "id": "ncLI_EigyP_I",
        "colab": {
          "base_uri": "https://localhost:8080/"
        },
        "outputId": "b141b47e-2b1e-467e-bcd8-f08a05b3badf"
      },
      "outputs": [
        {
          "output_type": "stream",
          "name": "stdout",
          "text": [
            "{'sweden': 'stockholm', 'denmark': 'copenhagen', 'norway': 'oslo', 'India': 'New Delhi', 'China': 'Beijing', 'USA': 'washington'}\n"
          ]
        }
      ],
      "source": [
        "print(countries)"
      ]
    },
    {
      "cell_type": "code",
      "source": [
        "#yes, it looks as expected"
      ],
      "metadata": {
        "id": "r9gDsHv3xtCA"
      },
      "execution_count": null,
      "outputs": []
    },
    {
      "cell_type": "markdown",
      "metadata": {
        "id": "35BUNBWbyP_I"
      },
      "source": [
        "__Exercise 6 d)__ Update Sweden's capital to Malmo"
      ]
    },
    {
      "cell_type": "code",
      "execution_count": null,
      "metadata": {
        "id": "6_160k_JyP_I"
      },
      "outputs": [],
      "source": [
        "countries[\"sweden\"]= \"malmo\""
      ]
    },
    {
      "cell_type": "markdown",
      "metadata": {
        "id": "bnTFa0k2yP_I"
      },
      "source": [
        "__Exercise 6 e)__ Print the dictionary. Does it look as expected?"
      ]
    },
    {
      "cell_type": "code",
      "source": [
        "print(countries)"
      ],
      "metadata": {
        "colab": {
          "base_uri": "https://localhost:8080/"
        },
        "id": "GJWPa98Nx8HB",
        "outputId": "7c691317-8cca-4e3e-f9a4-6029e2590d36"
      },
      "execution_count": null,
      "outputs": [
        {
          "output_type": "stream",
          "name": "stdout",
          "text": [
            "{'sweden': 'malmo', 'denmark': 'copenhagen', 'norway': 'oslo', 'India': 'New Delhi', 'China': 'Beijing', 'USA': 'washington'}\n"
          ]
        }
      ]
    },
    {
      "cell_type": "code",
      "source": [
        "#yes, it looks as expected"
      ],
      "metadata": {
        "id": "ESk90fhvyJup"
      },
      "execution_count": null,
      "outputs": []
    },
    {
      "cell_type": "markdown",
      "metadata": {
        "id": "Uipp7DHqyP_I"
      },
      "source": [
        "__Exercise 6 f)__ Remove the key-value pair Sweden-Stockholm from the dictionary"
      ]
    },
    {
      "cell_type": "code",
      "execution_count": null,
      "metadata": {
        "id": "JCSiYD7fyP_I",
        "colab": {
          "base_uri": "https://localhost:8080/",
          "height": 35
        },
        "outputId": "71d4c688-aec5-4f4c-ac32-4ad700768b6c"
      },
      "outputs": [
        {
          "output_type": "execute_result",
          "data": {
            "text/plain": [
              "'stockholm'"
            ],
            "application/vnd.google.colaboratory.intrinsic+json": {
              "type": "string"
            }
          },
          "metadata": {},
          "execution_count": 28
        }
      ],
      "source": [
        "countries[\"sweden\"]= \"stockholm\"\n",
        "countries.pop(\"sweden\")"
      ]
    },
    {
      "cell_type": "markdown",
      "metadata": {
        "id": "7revFcD_yP_I"
      },
      "source": [
        "__Exercise 6 g)__ Print the dictionary. Does it look as expected?"
      ]
    },
    {
      "cell_type": "code",
      "execution_count": null,
      "metadata": {
        "id": "-tlwnR30yP_I",
        "colab": {
          "base_uri": "https://localhost:8080/"
        },
        "outputId": "9f18bbdd-83da-465d-a0e9-d408565cd0f5"
      },
      "outputs": [
        {
          "output_type": "stream",
          "name": "stdout",
          "text": [
            "{'denmark': 'copenhagen', 'norway': 'oslo', 'India': 'New Delhi', 'China': 'Beijing', 'USA': 'washington'}\n"
          ]
        }
      ],
      "source": [
        "print(countries)"
      ]
    },
    {
      "cell_type": "markdown",
      "metadata": {
        "id": "C5CxsMGIyP_J"
      },
      "source": [
        "__Exercise 6 g)__ Print each key-value pair in the dictionary countries"
      ]
    },
    {
      "cell_type": "code",
      "execution_count": null,
      "metadata": {
        "id": "bjGw3aQ3yP_J",
        "outputId": "df31f968-3597-4ca6-e740-bf59b88972ed",
        "colab": {
          "base_uri": "https://localhost:8080/"
        }
      },
      "outputs": [
        {
          "output_type": "stream",
          "name": "stdout",
          "text": [
            "Country: denmark, Capital: copenhagen\n",
            "Country: norway, Capital: oslo\n",
            "Country: India, Capital: New Delhi\n",
            "Country: China, Capital: Beijing\n",
            "Country: USA, Capital: washington\n"
          ]
        }
      ],
      "source": [
        "for key, value in countries.items():\n",
        "    print(f\"Country: {key}, Capital: {value}\")"
      ]
    },
    {
      "cell_type": "markdown",
      "metadata": {
        "id": "ZVuDI_H7yP_J"
      },
      "source": [
        "# Example: Functions"
      ]
    },
    {
      "cell_type": "code",
      "execution_count": null,
      "metadata": {
        "id": "8uKlbPllyP_J",
        "colab": {
          "base_uri": "https://localhost:8080/",
          "height": 141
        },
        "outputId": "4e947059-67da-47dc-d905-26d50fdf09ba"
      },
      "outputs": [
        {
          "output_type": "error",
          "ename": "SyntaxError",
          "evalue": "ignored",
          "traceback": [
            "\u001b[0;36m  File \u001b[0;32m\"<ipython-input-31-4d7d6464b3e6>\"\u001b[0;36m, line \u001b[0;32m2\u001b[0m\n\u001b[0;31m    # Block of code\u001b[0m\n\u001b[0m                   ^\u001b[0m\n\u001b[0;31mSyntaxError\u001b[0m\u001b[0;31m:\u001b[0m incomplete input\n"
          ]
        }
      ],
      "source": [
        "def function_name(param1, param2):\n",
        "    # Block of code"
      ]
    },
    {
      "cell_type": "markdown",
      "metadata": {
        "id": "UrwoJ2hxyP_J"
      },
      "source": [
        "We will start with creating a function that can add two numbers."
      ]
    },
    {
      "cell_type": "code",
      "execution_count": null,
      "metadata": {
        "id": "cXKAYu7WyP_J"
      },
      "outputs": [],
      "source": [
        "def add_two_numbers(number1, number2):\n",
        "    result = number1 + number2\n",
        "    return result"
      ]
    },
    {
      "cell_type": "markdown",
      "metadata": {
        "id": "nE3HpXmiyP_J"
      },
      "source": [
        "Let's try to use it!"
      ]
    },
    {
      "cell_type": "code",
      "execution_count": null,
      "metadata": {
        "id": "Wc4SrUKRyP_J",
        "colab": {
          "base_uri": "https://localhost:8080/"
        },
        "outputId": "bc49f6f8-7258-4b29-a978-b65dada8462c"
      },
      "outputs": [
        {
          "output_type": "execute_result",
          "data": {
            "text/plain": [
              "3"
            ]
          },
          "metadata": {},
          "execution_count": 34
        }
      ],
      "source": [
        "add_two_numbers(1,2)"
      ]
    },
    {
      "cell_type": "code",
      "execution_count": null,
      "metadata": {
        "id": "40Du0JJSyP_K",
        "colab": {
          "base_uri": "https://localhost:8080/"
        },
        "outputId": "b0af108c-041c-468e-ea25-b951cec6d029"
      },
      "outputs": [
        {
          "output_type": "execute_result",
          "data": {
            "text/plain": [
              "25"
            ]
          },
          "metadata": {},
          "execution_count": 35
        }
      ],
      "source": [
        "add_two_numbers(5,20)"
      ]
    },
    {
      "cell_type": "markdown",
      "metadata": {
        "id": "jq_lraTyyP_K"
      },
      "source": [
        "__Exercise 7 a)__ Create a function that can calculate the difference between two numbers"
      ]
    },
    {
      "cell_type": "code",
      "execution_count": null,
      "metadata": {
        "id": "Km2zWTgAyP_K"
      },
      "outputs": [],
      "source": [
        "def Difference_betn_numbers (number1,number2):\n",
        "  result= number1 - number2\n",
        "  return result"
      ]
    },
    {
      "cell_type": "markdown",
      "metadata": {
        "id": "yau87C_QyP_K"
      },
      "source": [
        "__Exercise 7 b)__ Use the function. Does it return the expected results?"
      ]
    },
    {
      "cell_type": "code",
      "execution_count": null,
      "metadata": {
        "id": "Dxoit_LnyP_K",
        "colab": {
          "base_uri": "https://localhost:8080/"
        },
        "outputId": "2fce4c98-cf6b-43fd-81c7-d7025dedd330"
      },
      "outputs": [
        {
          "output_type": "execute_result",
          "data": {
            "text/plain": [
              "150"
            ]
          },
          "metadata": {},
          "execution_count": 57
        }
      ],
      "source": [
        "Difference_betn_numbers (789,639)"
      ]
    },
    {
      "cell_type": "code",
      "source": [
        "Difference_betn_numbers(456,289)"
      ],
      "metadata": {
        "colab": {
          "base_uri": "https://localhost:8080/"
        },
        "id": "O-JGfmVh3AEm",
        "outputId": "68e71ccc-6008-4772-85c2-92bbf2637b04"
      },
      "execution_count": null,
      "outputs": [
        {
          "output_type": "execute_result",
          "data": {
            "text/plain": [
              "167"
            ]
          },
          "metadata": {},
          "execution_count": 56
        }
      ]
    },
    {
      "cell_type": "code",
      "source": [
        "#yes, it returns the expected results"
      ],
      "metadata": {
        "id": "RRpEocuC3Nbh"
      },
      "execution_count": null,
      "outputs": []
    },
    {
      "cell_type": "markdown",
      "metadata": {
        "id": "QAhjKA1ryP_K"
      },
      "source": [
        "__Exercise 7 c)__ Create a function that can multiply two numbers"
      ]
    },
    {
      "cell_type": "code",
      "execution_count": null,
      "metadata": {
        "id": "legSsoaryP_K"
      },
      "outputs": [],
      "source": [
        "def multiply_numbers(x, y):\n",
        "  result= x*y\n",
        "  return  result\n",
        "\n"
      ]
    },
    {
      "cell_type": "markdown",
      "metadata": {
        "id": "RDt6halvyP_K"
      },
      "source": [
        "__Exercise 7 d)__ Use the function. Does it return the expected results?"
      ]
    },
    {
      "cell_type": "code",
      "execution_count": null,
      "metadata": {
        "id": "SVwlibOJyP_K",
        "colab": {
          "base_uri": "https://localhost:8080/"
        },
        "outputId": "f09e6b64-dfa3-4ed7-b4eb-bc42dfcd07fe"
      },
      "outputs": [
        {
          "output_type": "execute_result",
          "data": {
            "text/plain": [
              "4368"
            ]
          },
          "metadata": {},
          "execution_count": 77
        }
      ],
      "source": [
        "multiply_numbers (78, 56)"
      ]
    },
    {
      "cell_type": "code",
      "source": [
        "multiply_numbers(96786, 343536)"
      ],
      "metadata": {
        "colab": {
          "base_uri": "https://localhost:8080/"
        },
        "id": "t8pVzpOf6wme",
        "outputId": "561174c4-ad2c-44b3-8e6c-00148c4b5c23"
      },
      "execution_count": null,
      "outputs": [
        {
          "output_type": "execute_result",
          "data": {
            "text/plain": [
              "33249475296"
            ]
          },
          "metadata": {},
          "execution_count": 78
        }
      ]
    },
    {
      "cell_type": "code",
      "source": [
        "# yes, it returns the expected results"
      ],
      "metadata": {
        "id": "uxwFCwWq7V27"
      },
      "execution_count": null,
      "outputs": []
    },
    {
      "cell_type": "markdown",
      "metadata": {
        "id": "g-IU74A0yP_L"
      },
      "source": [
        "__Exercise 7 e)__ Create a function that can divide two numbers"
      ]
    },
    {
      "cell_type": "code",
      "execution_count": null,
      "metadata": {
        "id": "57e_20NSyP_L"
      },
      "outputs": [],
      "source": [
        "def divide_numbers(x,y):\n",
        "  result= x/y\n",
        "  return result"
      ]
    },
    {
      "cell_type": "markdown",
      "metadata": {
        "id": "SW3C8A-RyP_L"
      },
      "source": [
        "__Exercise 7 f)__ Use the function. Does it return the expected results?"
      ]
    },
    {
      "cell_type": "code",
      "execution_count": null,
      "metadata": {
        "id": "ZZBl3OyyyP_L",
        "colab": {
          "base_uri": "https://localhost:8080/"
        },
        "outputId": "9720ce69-02c4-4bae-fdad-94e2ea3624cf"
      },
      "outputs": [
        {
          "output_type": "execute_result",
          "data": {
            "text/plain": [
              "2.0"
            ]
          },
          "metadata": {},
          "execution_count": 84
        }
      ],
      "source": [
        "divide_numbers (10,5)"
      ]
    },
    {
      "cell_type": "code",
      "source": [
        "divide_numbers (100,75)"
      ],
      "metadata": {
        "colab": {
          "base_uri": "https://localhost:8080/"
        },
        "id": "cqhFjQe17ooN",
        "outputId": "0c142c1c-c6d8-4c9d-f6aa-ae78ec225bdd"
      },
      "execution_count": null,
      "outputs": [
        {
          "output_type": "execute_result",
          "data": {
            "text/plain": [
              "1.3333333333333333"
            ]
          },
          "metadata": {},
          "execution_count": 85
        }
      ]
    },
    {
      "cell_type": "code",
      "execution_count": null,
      "metadata": {
        "id": "P7qjkX3gyP_L",
        "colab": {
          "base_uri": "https://localhost:8080/"
        },
        "outputId": "849ccf6b-ba7f-4723-b5e6-02d623a03c23"
      },
      "outputs": [
        {
          "output_type": "execute_result",
          "data": {
            "text/plain": [
              "5.0"
            ]
          },
          "metadata": {},
          "execution_count": 86
        }
      ],
      "source": [
        "divide_numbers (45,9)"
      ]
    },
    {
      "cell_type": "code",
      "execution_count": null,
      "metadata": {
        "id": "x1VEhHomyP_L"
      },
      "outputs": [],
      "source": [
        "# yes, it returns the expected results\n"
      ]
    }
  ],
  "metadata": {
    "kernelspec": {
      "display_name": "Python 3 (ipykernel)",
      "language": "python",
      "name": "python3"
    },
    "language_info": {
      "codemirror_mode": {
        "name": "ipython",
        "version": 3
      },
      "file_extension": ".py",
      "mimetype": "text/x-python",
      "name": "python",
      "nbconvert_exporter": "python",
      "pygments_lexer": "ipython3",
      "version": "3.8.8"
    },
    "colab": {
      "provenance": [],
      "include_colab_link": true
    }
  },
  "nbformat": 4,
  "nbformat_minor": 0
}