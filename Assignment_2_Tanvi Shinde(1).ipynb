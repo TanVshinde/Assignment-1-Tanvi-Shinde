{
  "cells": [
    {
      "cell_type": "markdown",
      "metadata": {
        "id": "view-in-github",
        "colab_type": "text"
      },
      "source": [
        "<a href=\"https://colab.research.google.com/github/TanVshinde/Assignment-1-Tanvi-Shinde/blob/main/Assignment_2_Tanvi%20Shinde(1).ipynb\" target=\"_parent\"><img src=\"https://colab.research.google.com/assets/colab-badge.svg\" alt=\"Open In Colab\"/></a>"
      ]
    },
    {
      "cell_type": "markdown",
      "id": "8d7ab3bd",
      "metadata": {
        "id": "8d7ab3bd"
      },
      "source": [
        "# Python Assignment - 2\n",
        "### Total - 30 marks"
      ]
    },
    {
      "cell_type": "markdown",
      "id": "6984940a",
      "metadata": {
        "id": "6984940a"
      },
      "source": [
        "#### 1. Create a list of student and their subjects and then print the count of the subjects each student is having."
      ]
    },
    {
      "cell_type": "markdown",
      "id": "2167cbb2",
      "metadata": {
        "id": "2167cbb2"
      },
      "source": [
        "Ex: List should be of the this format\n",
        " [('Justin', ['Math', 'CompSci']),\n",
        " ('Eden', ['CompSci', 'Accounting', 'Economics'])]\n",
        "\n",
        " and the output be like,\n",
        "\n",
        "Justin takes 2 subjects\n",
        "Eden takes 3 subjects"
      ]
    },
    {
      "cell_type": "code",
      "execution_count": 4,
      "id": "c7115c59",
      "metadata": {
        "colab": {
          "base_uri": "https://localhost:8080/"
        },
        "id": "c7115c59",
        "outputId": "a032fc0f-574d-4385-eebf-26a356b98259"
      },
      "outputs": [
        {
          "output_type": "stream",
          "name": "stdout",
          "text": [
            "Justin takes 2subjects\n",
            "Eden takes 3subjects\n"
          ]
        }
      ],
      "source": [
        "student_subjects = [('Justin', ['Math','CompSci']), ('Eden',['CompSci','Accounting','Economics'])]\n",
        "for student,subjects in student_subjects:\n",
        "  subject_count = len(subjects)\n",
        "  print(f\"{student} takes {subject_count}subjects\")"
      ]
    },
    {
      "cell_type": "markdown",
      "id": "44bb9ea8",
      "metadata": {
        "id": "44bb9ea8"
      },
      "source": [
        "#### 2. Count the total number of digits in a number (ex: A mobile number)"
      ]
    },
    {
      "cell_type": "markdown",
      "id": "1d2ab3cb",
      "metadata": {
        "id": "1d2ab3cb"
      },
      "source": [
        "Ex:\n",
        "number be like some random mobile number,\n",
        "\n",
        "9848000000\n",
        "\n",
        "the count of the this should be 10"
      ]
    },
    {
      "cell_type": "code",
      "execution_count": 11,
      "id": "747e9a6d",
      "metadata": {
        "colab": {
          "base_uri": "https://localhost:8080/",
          "height": 141
        },
        "id": "747e9a6d",
        "outputId": "566c9d68-c525-414a-ada5-d5447ca47a4e"
      },
      "outputs": [
        {
          "output_type": "error",
          "ename": "SyntaxError",
          "evalue": "ignored",
          "traceback": [
            "\u001b[0;36m  File \u001b[0;32m\"<ipython-input-11-9b3977c77a5f>\"\u001b[0;36m, line \u001b[0;32m3\u001b[0m\n\u001b[0;31m    print(f\"The total number of digits in the mobile number\u001b[0m\n\u001b[0m          ^\u001b[0m\n\u001b[0;31mSyntaxError\u001b[0m\u001b[0;31m:\u001b[0m unterminated string literal (detected at line 3)\n"
          ]
        }
      ],
      "source": [
        "mobile_number = \"9848000000\"\n",
        "digit_count = len(mobile_number)\n",
        "print(f\"The total number of digits in the mobile number\n",
        "{mobile_number}is:{digit_count}\")\n"
      ]
    },
    {
      "cell_type": "markdown",
      "id": "3502e833",
      "metadata": {
        "id": "3502e833"
      },
      "source": [
        "#### 3. Create a for loop that prompts the user for a skill 3 times, then print the appended skills."
      ]
    },
    {
      "cell_type": "code",
      "source": [
        "skills = []\n",
        "for i in range(3):\n",
        "  skill = input (f\"Enter skill {i + 1}: \")\n",
        "  skills.append(skill)\n",
        "  print(\"Appended skills:\")\n",
        "\n",
        "  for skill in skills:\n",
        "    print(skill)\n"
      ],
      "metadata": {
        "colab": {
          "base_uri": "https://localhost:8080/"
        },
        "id": "jhZQYOJU93U8",
        "outputId": "ad500b50-862e-4a4d-8671-3a79f0910e57"
      },
      "id": "jhZQYOJU93U8",
      "execution_count": 12,
      "outputs": [
        {
          "output_type": "stream",
          "name": "stdout",
          "text": [
            "Enter skill 1: Data Science\n",
            "Appended skills:\n",
            "Data Science\n",
            "Enter skill 2: Coding\n",
            "Appended skills:\n",
            "Data Science\n",
            "Coding\n",
            "Enter skill 3: Operation\n",
            "Appended skills:\n",
            "Data Science\n",
            "Coding\n",
            "Operation\n"
          ]
        }
      ]
    },
    {
      "cell_type": "markdown",
      "id": "309395ff",
      "metadata": {
        "id": "309395ff"
      },
      "source": [
        "#### 4. Define your commercial computation program with hourly rate for usual timings and extra for overtime. Create a function called commercials_calculator which takes two parameters (hours and rate).\n",
        "\n",
        "Enter Hours: 45\n",
        "\n",
        "Enter Rate: 10\n",
        "\n",
        "Pay: 475.0"
      ]
    },
    {
      "cell_type": "code",
      "execution_count": 16,
      "id": "fe142f76",
      "metadata": {
        "colab": {
          "base_uri": "https://localhost:8080/"
        },
        "id": "fe142f76",
        "outputId": "7473847c-b6a8-4f09-ee15-a00120958b8e"
      },
      "outputs": [
        {
          "output_type": "stream",
          "name": "stdout",
          "text": [
            "Enter Hours: 45\n",
            "Enter Rate: 10\n",
            "Pay:  475.16\n"
          ]
        }
      ],
      "source": [
        "\n",
        "def commercials_calculator(hours, rate):\n",
        "  #if the hours worked are within the usual timings (e.g., 8 hours)\n",
        "  usual_hours=8\n",
        "  if hours <= usual_hours:\n",
        "    total_payment = hours * rate\n",
        "  else:\n",
        "    #calculate payment for usual hours\n",
        "    usual_payment = usual_hours * rate\n",
        "\n",
        "    #calculate payment for overtime hours (hours beyond usual timings)\n",
        "    overtime_hours = hours - usual_hours\n",
        "    overtime_rate = rate * 1.068 #Assuming 1.5x rate for overtime\n",
        "    overtime_payment = overtime_hours * overtime_rate\n",
        "\n",
        "    #calculate total payment\n",
        "    total_payment = usual_payment + overtime_payment\n",
        "    return total_payment\n",
        "\n",
        "#input hours and rate from the user\n",
        "hours_worked = float (input(\"Enter Hours: \"))\n",
        "hourly_rate = float(input(\"Enter Rate: \"))\n",
        "\n",
        "# Calculate total payment using the commercials_calculator function\n",
        "total_payment = commercials_calculator (hours_worked, hourly_rate)\n",
        "\n",
        "# print the total payment10\n",
        "print(f\"Pay: {total_payment: .2f}\")\n"
      ]
    },
    {
      "cell_type": "code",
      "source": [
        "11011101011111"
      ],
      "metadata": {
        "id": "I5TUWOWiFLje"
      },
      "id": "I5TUWOWiFLje",
      "execution_count": 17,
      "outputs": []
    }
  ],
  "metadata": {
    "kernelspec": {
      "display_name": "Python 3 (ipykernel)",
      "language": "python",
      "name": "python3"
    },
    "language_info": {
      "codemirror_mode": {
        "name": "ipython",
        "version": 3
      },
      "file_extension": ".py",
      "mimetype": "text/x-python",
      "name": "python",
      "nbconvert_exporter": "python",
      "pygments_lexer": "ipython3",
      "version": "3.8.8"
    },
    "colab": {
      "provenance": [],
      "include_colab_link": true
    }
  },
  "nbformat": 4,
  "nbformat_minor": 5
}