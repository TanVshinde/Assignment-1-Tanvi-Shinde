{
  "cells": [
    {
      "cell_type": "markdown",
      "metadata": {
        "id": "view-in-github",
        "colab_type": "text"
      },
      "source": [
        "<a href=\"https://colab.research.google.com/github/TanVshinde/Assignment-1-Tanvi-Shinde/blob/main/tanvi.assignment_3.ipynb\" target=\"_parent\"><img src=\"https://colab.research.google.com/assets/colab-badge.svg\" alt=\"Open In Colab\"/></a>"
      ]
    },
    {
      "cell_type": "markdown",
      "id": "4e96153a",
      "metadata": {
        "id": "4e96153a"
      },
      "source": [
        "# Python Assignment - 3\n",
        "### Carries - 30 marks"
      ]
    },
    {
      "cell_type": "markdown",
      "id": "b5bc6391",
      "metadata": {
        "id": "b5bc6391"
      },
      "source": [
        "## What is File function in python? What is keywords to create and write file."
      ]
    },
    {
      "cell_type": "markdown",
      "source": [
        "In Python, the file function does not exist as a built-in function. However, there is a built-in open function that is used for working with files. The open function is used to open a file and returns a file object, which can be used to read from, write to, or manipulate the contents of the file.\n",
        "\n",
        "Keywords to Create and Write file\n",
        "\n",
        "1.open(): Used to open a file.\n",
        "\n",
        "2.write(): Used to write data to a file.\n",
        "\n",
        "3.close(): Used to close the file when you're done with it.\n",
        "\n",
        "4.with: A context manager that simplifies file handling by automatically closing the file when the block is exited.italicised text"
      ],
      "metadata": {
        "id": "nYOqfdQ0YPSh"
      },
      "id": "nYOqfdQ0YPSh"
    },
    {
      "cell_type": "markdown",
      "id": "77e6fcc1",
      "metadata": {
        "id": "77e6fcc1"
      },
      "source": [
        "#### Create and write a  file"
      ]
    },
    {
      "cell_type": "code",
      "execution_count": null,
      "id": "10cffab9",
      "metadata": {
        "id": "10cffab9"
      },
      "outputs": [],
      "source": [
        "#Method: 1 Create and write\n",
        "file=open(\"myfile.txt\",\"w\")\n",
        "file.write(\"What's up\\n\")\n",
        "file.write(\"I am Fine\\n\")\n",
        "file.write(\"You Say!\\n\")\n",
        "file.close()"
      ]
    },
    {
      "cell_type": "code",
      "source": [
        "#Method: 2\n",
        "with open(\"myfile.txt\",\"w\") as file:\n",
        "  file.write(\"What's up\\n\")\n",
        "  file.write(\"I am Fine\\n\")\n",
        "  file.write(\"You Say!\\n\")"
      ],
      "metadata": {
        "id": "s4w-t9Q1dS-m"
      },
      "id": "s4w-t9Q1dS-m",
      "execution_count": null,
      "outputs": []
    },
    {
      "cell_type": "markdown",
      "id": "ee678cfd",
      "metadata": {
        "id": "ee678cfd"
      },
      "source": [
        "## Write a Python program to read an entire text file."
      ]
    },
    {
      "cell_type": "code",
      "execution_count": null,
      "id": "cdf7ae1a",
      "metadata": {
        "colab": {
          "base_uri": "https://localhost:8080/"
        },
        "id": "cdf7ae1a",
        "outputId": "693c00e8-2ae4-4443-c933-41b0d57ab625"
      },
      "outputs": [
        {
          "output_type": "stream",
          "name": "stdout",
          "text": [
            "What's up\n",
            "I am Fine\n",
            "You Say!\n",
            "\n"
          ]
        }
      ],
      "source": [
        "with open(\"myfile.txt\",\"r\") as file:\n",
        "  file_contents=file.read()\n",
        "print(file_contents)"
      ]
    },
    {
      "cell_type": "markdown",
      "id": "dd46afa5",
      "metadata": {
        "id": "dd46afa5"
      },
      "source": [
        "## Write a Python program to append text to a file and display the text."
      ]
    },
    {
      "cell_type": "code",
      "execution_count": null,
      "id": "c80ebe1f",
      "metadata": {
        "colab": {
          "base_uri": "https://localhost:8080/"
        },
        "id": "c80ebe1f",
        "outputId": "8edb6eb2-6d76-4e9f-ca75-7dbabb007b71"
      },
      "outputs": [
        {
          "name": "stdout",
          "output_type": "stream",
          "text": [
            "Enter text to append:guyz\n"
          ]
        }
      ],
      "source": [
        "with open(\"myfile.txt\",\"a\") as file:\n",
        "  text_to_append=input(\"Enter text to append:\")\n",
        "  file.write(text_to_append +\"\\n\")\n",
        "\n",
        "with open(\"myfile.txt\",\"r\") as file:\n",
        "  file_contents=file.read()"
      ]
    },
    {
      "cell_type": "code",
      "source": [
        "print(file_contents)"
      ],
      "metadata": {
        "colab": {
          "base_uri": "https://localhost:8080/"
        },
        "id": "-im23vGcLP1P",
        "outputId": "ce307666-7a53-4134-91ff-289723c14acc"
      },
      "id": "-im23vGcLP1P",
      "execution_count": null,
      "outputs": [
        {
          "output_type": "stream",
          "name": "stdout",
          "text": [
            "What's up\n",
            "I am Fine\n",
            "You Say!\n",
            "1\n",
            "guyz\n",
            "\n"
          ]
        }
      ]
    },
    {
      "cell_type": "markdown",
      "id": "52316493",
      "metadata": {
        "id": "52316493"
      },
      "source": [
        "## Write a Python program to read first n lines of a file."
      ]
    },
    {
      "cell_type": "code",
      "execution_count": null,
      "id": "23617604",
      "metadata": {
        "colab": {
          "base_uri": "https://localhost:8080/"
        },
        "id": "23617604",
        "outputId": "f515693f-8008-4ed1-e855-f8986d4aedb4"
      },
      "outputs": [
        {
          "name": "stdout",
          "output_type": "stream",
          "text": [
            "Enter first n line which you want to read: 2\n"
          ]
        }
      ],
      "source": [
        "def read_first_n_lines(file_name, n):\n",
        "  try:\n",
        "    with open(file_name, 'r') as file:\n",
        "      for i in range(n):\n",
        "        line = file.readline()\n",
        "        if not line:\n",
        "          break\n",
        "          print(line.strip())\n",
        "\n",
        "  except FileNotFoundError:\n",
        "    print(f\"Error: The file '{file_name}' was not found.\")\n",
        "  except Exception as e:\n",
        "    print(f\"An error ocurred: {e}\")\n",
        "\n",
        "\n",
        "\n",
        "file_name = 'myfile.txt'\n",
        "n = int(input(\"Enter first n line which you want to read: \") )\n",
        "read_first_n_lines(file_name, n)"
      ]
    },
    {
      "cell_type": "markdown",
      "id": "45dba4dc",
      "metadata": {
        "id": "45dba4dc"
      },
      "source": [
        "## Write a Python program to read last n lines of a file."
      ]
    },
    {
      "cell_type": "code",
      "execution_count": null,
      "id": "d36a72b0",
      "metadata": {
        "id": "d36a72b0"
      },
      "outputs": [],
      "source": [
        "def read_last_n_lines(file_name, n):\n",
        "  try:\n",
        "    with open(filename, 'r') as file:\n",
        "      lines = file.readlines()\n",
        "      last_n_lines = lines[-n:]\n",
        "      return last_n_lines\n",
        "  except FileNotFoundError:\n",
        "    return []\n",
        "\n",
        "  filename= 'myfile.txt'\n",
        "  n = int(input(\"Enter first n line which you want to read:    \"))\n",
        "  last_n_lines = read_last_n_lines(filename, n)\n",
        "\n",
        "  if last_n_lines:\n",
        "   print(f\"Last {n} lines of {filename}:\")\n",
        "  for line in last_n_lines:\n",
        "    print(line.strip())\n",
        "  else:\n",
        "        print(f\"file '{filename}' not found.\")\n",
        "\n"
      ]
    },
    {
      "cell_type": "markdown",
      "id": "76a74d09",
      "metadata": {
        "id": "76a74d09"
      },
      "source": [
        "## Write a Python program to read a file line by line and store it into a list"
      ]
    },
    {
      "cell_type": "code",
      "execution_count": null,
      "id": "3ea8e4e4",
      "metadata": {
        "colab": {
          "base_uri": "https://localhost:8080/"
        },
        "id": "3ea8e4e4",
        "outputId": "543c837e-3a8b-4a6c-ceac-7905c6470822"
      },
      "outputs": [
        {
          "output_type": "stream",
          "name": "stdout",
          "text": [
            "What's up\n",
            "I am Fine\n",
            "You Say!\n",
            "1\n",
            "guyz\n",
            "\n",
            "[\"What's up\", 'I am Fine', 'You Say!', '1', 'guyz']\n"
          ]
        }
      ],
      "source": [
        "# Program to read a file line by line\n",
        "with open(\"myfile.txt\",\"r\") as file:\n",
        "  file_contents=file.read()\n",
        "print(file_contents)\n",
        "\n",
        "file_path = \"myfile.txt\"\n",
        "file_list = []\n",
        "\n",
        "try:\n",
        "  with open(file_path, \"r\") as file:\n",
        "    #Read each line of the file and append it to the list\n",
        "    for line in file:\n",
        "      file_list.append(line.strip())\n",
        "except FileNotFoundError:\n",
        "  print(f\"The file {file_path} was not found.\")\n",
        "except Exception as e:\n",
        "  print(f\"An error occurred: {e}\")\n",
        "\n",
        "# Now, file_list contains the contents of the file as a list of strings\n",
        "print(file_list)\n"
      ]
    },
    {
      "cell_type": "markdown",
      "id": "589e624c",
      "metadata": {
        "id": "589e624c"
      },
      "source": [
        "## Write a Python program to read a file line by line store it into a variable."
      ]
    },
    {
      "cell_type": "code",
      "execution_count": null,
      "id": "9a6f1553",
      "metadata": {
        "id": "9a6f1553",
        "colab": {
          "base_uri": "https://localhost:8080/"
        },
        "outputId": "f33b16c9-8509-403f-fd7d-819a8f364544"
      },
      "outputs": [
        {
          "output_type": "stream",
          "name": "stdout",
          "text": [
            "What's up\n",
            "I am Fine\n",
            "You Say!\n",
            "1\n",
            "guyz\n",
            "\n",
            "What's up\n",
            "I am Fine\n",
            "You Say!\n",
            "1\n",
            "guyz\n",
            "\n"
          ]
        }
      ],
      "source": [
        "#python program to read a file line by line\n",
        "with open(\"myfile.txt\",\"r\") as file:\n",
        "  file_contents=file.read()\n",
        "  print(file_contents)\n",
        "\n",
        "  #here, we are storing a file into a variable\n",
        "\n",
        "with open(\"myfile.txt\",\"r\") as file:\n",
        "    #Read the content of the file into a variable\n",
        "    New_variable = file.read()\n",
        "\n",
        " #here, the variable 'file_contents' contains the content of the file\n",
        "    print(New_variable)"
      ]
    },
    {
      "cell_type": "markdown",
      "id": "c5a5e0a9",
      "metadata": {
        "id": "c5a5e0a9"
      },
      "source": [
        "## Write a Python program to copy the contents of a file to another file."
      ]
    },
    {
      "cell_type": "code",
      "execution_count": null,
      "id": "d47a46fb",
      "metadata": {
        "id": "d47a46fb"
      },
      "outputs": [],
      "source": [
        "def copy_file(source_file, destination_file):\n",
        "  try:\n",
        "     with open (source_file, 'r') as source, open(destination_file, 'w') as destination:\n",
        "      for line in source:\n",
        "        destination.write(line)\n",
        "        print(f\"contents of'{source_file}' copied to '{destination_file}' successfully.\")\n",
        "  except FileNotFoundError:\n",
        "        print(f\"Error: One of the files was not found\")\n",
        "  except Exception as e:\n",
        "     Print(f\"An error occurred: {e}\")\n",
        "\n",
        "  source_file_name = 'myfile.txt'\n",
        "  destination_file_name = 'destination.txt'\n",
        "\n",
        "  copy_file(source_file_name, destination_file_name)\n",
        "\n",
        "  with open(\"destination.txt\",\"r\") as file:\n",
        "    file_contents=file.read()\n",
        "    print(file_contents)\n",
        "\n",
        "\n"
      ]
    },
    {
      "cell_type": "markdown",
      "id": "056551f3",
      "metadata": {
        "id": "056551f3"
      },
      "source": [
        "## Write python program that user to enter only odd numbers, else will raise an exception"
      ]
    },
    {
      "cell_type": "code",
      "execution_count": null,
      "id": "e2ef3212",
      "metadata": {
        "id": "e2ef3212",
        "colab": {
          "base_uri": "https://localhost:8080/"
        },
        "outputId": "4ec1d39e-543b-443b-e4db-43d6dbe54d42"
      },
      "outputs": [
        {
          "output_type": "stream",
          "name": "stdout",
          "text": [
            "Enter an odd number: 8\n",
            "Error: You must enter an odd number.\n",
            "Enter an odd number: 17\n",
            "You entered the odd number: 17\n"
          ]
        }
      ],
      "source": [
        "while True:\n",
        "  try:\n",
        "    user_input = int(input(\"Enter an odd number: \"))\n",
        "    if user_input % 2 != 1:\n",
        "      raise ValueError(\"You must enter an odd number.\")\n",
        "    else:\n",
        "      print(f\"You entered the odd number: {user_input}\")\n",
        "      break\n",
        "  except ValueError as ve:\n",
        "    print(f\"Error: {ve}\")"
      ]
    },
    {
      "cell_type": "markdown",
      "id": "165279e1",
      "metadata": {
        "id": "165279e1"
      },
      "source": [
        "## Can one block of except statements handle multiple exception?"
      ]
    },
    {
      "cell_type": "markdown",
      "source": [
        " Yes, you can have a single block of except statements that handles multiple exceptions in\n",
        "Python. You can specify multiple exception types in a single except block by enclosing them in\n",
        "parentheses."
      ],
      "metadata": {
        "id": "PZo2qAS0brAu"
      },
      "id": "PZo2qAS0brAu"
    },
    {
      "cell_type": "code",
      "execution_count": null,
      "id": "9cc304cc",
      "metadata": {
        "id": "9cc304cc",
        "colab": {
          "base_uri": "https://localhost:8080/"
        },
        "outputId": "45028e14-ce09-4b16-d3aa-853ed3a26e2d"
      },
      "outputs": [
        {
          "output_type": "stream",
          "name": "stdout",
          "text": [
            "An exception occurred: division by zero\n",
            "Division by zero is not allowed.\n",
            "This code always runs.\n"
          ]
        }
      ],
      "source": [
        "#e.g of Single except block\n",
        "try:\n",
        "  result = 10/0\n",
        "except (ZeroDivisionError, FileNotFoundError) as e:  #Handle multiple exceptions in this block\n",
        "  print(f\"An exception occurred: {e}\")\n",
        "\n",
        "\n",
        "#e.g of Multiple except block\n",
        "try:\n",
        "  # Code that may raise exceptions\n",
        "  x = 10/0\n",
        "except ZeroDivisionError:\n",
        "  # Handle ZeroDivisionError\n",
        "  print(\"Division by zero is not allowed.\")\n",
        "except ArithmeticError:\n",
        "  # Handle ArithmeticError (a broader category that includes ZeroDivisionError)\n",
        "  print(\"An arithmetic error occurred.\")\n",
        "except Exception as e:\n",
        "  # Handle any other exceptions not caught above\n",
        "  print(f\"An unexpected error occurred: {e}\")\n",
        "else:\n",
        "  # Code to execute if no exception occurred\n",
        "  print(\"No exceptions were raised.\")\n",
        "finally:\n",
        "  # Code to execute whether an exception occurred or not\n",
        "  print(\"This code always runs.\")\n",
        "\n",
        "\n",
        "\n"
      ]
    },
    {
      "cell_type": "markdown",
      "id": "759b2c5f",
      "metadata": {
        "id": "759b2c5f"
      },
      "source": [
        "## Explain Exception handling? What is an Error in Python?\n"
      ]
    },
    {
      "cell_type": "code",
      "execution_count": null,
      "id": "555171f7",
      "metadata": {
        "id": "555171f7"
      },
      "outputs": [],
      "source": [
        "Exception handling:\n",
        " is a fundamental programming concept that allows developers to\n",
        "manage and respond to unexpected or exceptional situations that can occur during the\n",
        "execution of a program.\n",
        "\n",
        "Error in Python:\n",
        " an \"error\" typically refers to an exceptional condition or situation that disrupts\n",
        "the normal flow of a program and can lead to unintended consequences, such as program\n",
        "termination or incorrect results Errors in Python are categorized into three main types:\n",
        "1. Syntax error\n",
        "2. Runtime error\n",
        "3. Semantic error\n"
      ]
    },
    {
      "cell_type": "markdown",
      "id": "503ae851",
      "metadata": {
        "id": "503ae851"
      },
      "source": [
        "## Write a Python program to count the number of lines in a text file."
      ]
    },
    {
      "cell_type": "code",
      "execution_count": null,
      "id": "9b708d8d",
      "metadata": {
        "id": "9b708d8d"
      },
      "outputs": [],
      "source": [
        "def count_lines(file_name):\n",
        "  try:\n",
        "    with open(file_name, 'r') as file:\n",
        "      line_count = sum (1 for line in file)\n",
        "    return line_count\n",
        "  except FileNotFoundError:\n",
        "    print(f\"Error: The file '{file_name}' was not found.\")\n",
        "    return 0 # Return 0 lines in case of a file not found\n",
        "  except Exception as e:\n",
        "    print(f\"An error occurred: {e}\")\n",
        "    return 0 # Return 0 lines in case of an error\n",
        "\n",
        "\n",
        "  file_name = 'myfile.txt'\n",
        "  lines = count_lines(file_name)\n",
        "\n",
        "  if lines > 0:\n",
        "    print(f\"The file '{file_name}' contains {lines} lines.\")\n",
        "  else:\n",
        "    print(f\"The file '{file_name}' is empty or does not exist.\")\n",
        "\n",
        "  #The file 'myfile.txt' contains 4 lines.\n",
        "\n"
      ]
    },
    {
      "cell_type": "markdown",
      "id": "7dd706b2",
      "metadata": {
        "id": "7dd706b2"
      },
      "source": [
        "## Write a Python program to write a list to a file."
      ]
    },
    {
      "cell_type": "code",
      "execution_count": null,
      "id": "ab86375f",
      "metadata": {
        "id": "ab86375f"
      },
      "outputs": [],
      "source": [
        "def write_list_to_file(file_name, input_list):\n",
        "  try:\n",
        "    with open(file_name, 'w') as file:\n",
        "      for item in inputs_list:\n",
        "        file.write(str(item) + '\\n' ) # Write each item followed by a newline\n",
        "        print(f\"List Written to '{file_name}' successfully.\")\n",
        "\n",
        "  except Exception as e:\n",
        "        print(f\"An error occurred: {e}\")\n",
        "\n",
        "\n",
        "  file_name = 'myfile.txt'\n",
        "  my_list = [1, 2, 3, 4, 5, 66]\n",
        "\n",
        "  write_list_to_file(file_name, my_list)\n",
        "\n",
        "  #List written to 'myfile.txt' successfully\n",
        "\n",
        "  with open(\"myfile.txt\",\"r\") as file:\n",
        "    file_contents=file.read()\n",
        "  print(file_contents)\n",
        "\n"
      ]
    },
    {
      "cell_type": "markdown",
      "id": "452eb320",
      "metadata": {
        "id": "452eb320"
      },
      "source": [
        "# Explain Inheritance in Python with an example?What is init? Or What Is A Constructor In Python?\n",
        "\n"
      ]
    },
    {
      "cell_type": "markdown",
      "source": [
        " Inheritance in Python allows you to create a new class (the derived or child class) that\n",
        "inherits attributes and methods from an existing class (parent class). Here's an example of\n",
        "inheritance in Python:"
      ],
      "metadata": {
        "id": "Ajl4vLG74EQ1"
      },
      "id": "Ajl4vLG74EQ1"
    },
    {
      "cell_type": "code",
      "execution_count": null,
      "id": "a15e5f1b",
      "metadata": {
        "id": "a15e5f1b"
      },
      "outputs": [],
      "source": [
        "# parent class\n",
        "class Animal:\n",
        " def  __init__(self, name, species):\n",
        "  self.name = name\n",
        "  self.species = species\n",
        "\n",
        " def make_sound(self):\n",
        "  pass\n",
        "\n",
        "#Child class\n",
        "class Dog(Animal):\n",
        "  def __init__(self, name, breed):\n",
        "    # Call the constructor of the parent class using super()\n",
        "    super().__init__(name, species=\"Dog\")\n",
        "    self.breed = breed\n",
        "  def make_sound(self):\n",
        "    return \"woof!\"\n",
        "\n",
        "\n",
        "#Child class\n",
        "class cat(Animal):\n",
        " def __init__(self, name, colour):\n",
        "    # Call the constructor of the parent class using super()\n",
        "        super().__init__(name, species=\"cat\")\n",
        "        self.colour = colour\n",
        " def make_sound(self):\n",
        "    return \"Meow!\"\n",
        "\n",
        "    dog = Dog(\"dollar\", \"Labrador\")\n",
        "    cat = Cat(\"lucy\", \"Golden\")\n",
        "\n",
        "    #Access attributes and methods of the objects\n",
        "    print(f\"{dog.name} is a {dog.species} of breed {dog.breed}. It says '{dog.make_sound()}'\")\n",
        "    print(f\"{cat.name} is a {cat.species} with  {cat.color} fur. It says'{cat.make_sound()}'\")\n",
        "\n",
        "\n"
      ]
    },
    {
      "cell_type": "markdown",
      "id": "a498a822",
      "metadata": {
        "id": "a498a822"
      },
      "source": [
        "# Write a python program to find the longest words."
      ]
    },
    {
      "cell_type": "code",
      "execution_count": null,
      "id": "efbdc1ae",
      "metadata": {
        "id": "efbdc1ae",
        "colab": {
          "base_uri": "https://localhost:8080/"
        },
        "outputId": "e754653d-c892-44e2-9efd-e9a6d0b77768"
      },
      "outputs": [
        {
          "output_type": "stream",
          "name": "stdout",
          "text": [
            "Check by entering your Text : Python is a powerful and versatile programming language, and Python programmers are skilled developers\n",
            "Longest words in the text:\n",
            "programming\n",
            "programmers\n"
          ]
        }
      ],
      "source": [
        "def find_longest_words(text):\n",
        "  # Split the text into words\n",
        "  words = text.split()\n",
        "\n",
        "  # Initialize variables to keep track of the longest words\n",
        "  longest_words = []\n",
        "  max_length = 0\n",
        "\n",
        "  # Iterate through the words\n",
        "  for word in words:\n",
        "    # Calculate the length of the current word\n",
        "    word_length = len(word)\n",
        "\n",
        "    # If the current word is longer than the previously found longest words,\n",
        "    # update the list of longest words and the maximum length\n",
        "    if word_length > max_length:\n",
        "      longest_words = [word]\n",
        "      max_length = word_length\n",
        "    elif word_length == max_length:\n",
        "      # If the current word has the same length as the longest words found so far,\n",
        "      # append it to the list\n",
        "      longest_words.append(word)\n",
        "\n",
        "  return longest_words\n",
        "# Input text\n",
        "\n",
        "Sample_text = \"Python is a powerful and versatile programming language, and Python programmers are skilled developers.\"\n",
        "input_text = str(input(\"Check by entering your Text : \"))\n",
        "\n",
        "# Find the longest words in the input text\n",
        "longest_words = find_longest_words(input_text)\n",
        "\n",
        "# Print the longest words\n",
        "if longest_words:\n",
        "  print(\"Longest words in the text:\")\n",
        "  for word in longest_words:\n",
        "    print(word)\n",
        "else:\n",
        "  print(\"No words found in the text.\")\n",
        "\n",
        "\n",
        "\n",
        "\n"
      ]
    },
    {
      "cell_type": "markdown",
      "id": "cbbc881b",
      "metadata": {
        "id": "cbbc881b"
      },
      "source": [
        "# How to Define a Class in Python? What Is Self? Give An Example Of A Python Class\n",
        ".\n"
      ]
    },
    {
      "cell_type": "markdown",
      "source": [
        "In Python, you can define a class using the class keyword followed by the name of the class.\n",
        "Here's the basic syntax for defining a class"
      ],
      "metadata": {
        "id": "QOSVnreN4aBX"
      },
      "id": "QOSVnreN4aBX"
    },
    {
      "cell_type": "code",
      "execution_count": null,
      "id": "2576eaf5",
      "metadata": {
        "id": "2576eaf5"
      },
      "outputs": [],
      "source": [
        "class ClassName:\n",
        " class_attribute = \"I am a class attribute\""
      ]
    },
    {
      "cell_type": "markdown",
      "source": [
        "In Python, self is a conventionally used name for the first parameter of instance methods in a\n",
        "class. It refers to the instance of the class itself. When you define a method within a class and\n",
        "include self as the first parameter, you are essentially telling Python that this method is\n",
        "associated with instances of the class, and it can access and manipulate the attributes and\n",
        "methods of those instances.\n"
      ],
      "metadata": {
        "id": "ejd5f0r24fkQ"
      },
      "id": "ejd5f0r24fkQ"
    },
    {
      "cell_type": "code",
      "source": [
        "# Parent class\n",
        "class Animal:\n",
        " def __init__(self, name, species):\n",
        "  self.name = name\n",
        "  self.species = species\n",
        "\n",
        " def make_sound(self):\n",
        "  pass\n",
        "\n",
        "# Child class\n",
        "class Dog(Animal):\n",
        "  def __init__(self, name, breed):\n",
        "    # Call the constructor of the parent class using super()\n",
        "    super().__init__(name, species=\"Dog\")\n",
        "    self.breed = breed\n",
        "\n",
        "  def make_sound(self):\n",
        "    return \"Woof!\"\n",
        "\n",
        "# Child class\n",
        "class Cat(Animal):\n",
        "  def __init__(self, name, color):\n",
        "    # Call the constructor of the parent class using super()\n",
        "    super().__init__(name, species=\"Cat\")\n",
        "    self.color = color\n",
        "\n",
        "  def make_sound(self):\n",
        "    return \"Meow!\"\n",
        "\n",
        "dog = Dog(\"Dolar\", \"Labrador\")\n",
        "cat = Cat(\"Lucy\", \"Parsian\")\n",
        "\n",
        "# Access attributes and methods of the objects\n",
        "print(f\"{dog.name} is a {dog.species} of breed {dog.breed}.It says'{dog.make_sound()}'\")\n",
        "print(f\"{cat.name} is a {cat.species} with {cat.color} fur. It says'{cat.make_sound()}'\")"
      ],
      "metadata": {
        "id": "4yIhj3WX4jtV",
        "colab": {
          "base_uri": "https://localhost:8080/"
        },
        "outputId": "38afc70c-4dff-4a01-e2a4-5911e7eb41c3"
      },
      "id": "4yIhj3WX4jtV",
      "execution_count": 2,
      "outputs": [
        {
          "output_type": "stream",
          "name": "stdout",
          "text": [
            "Dolar is a Dog of breed Labrador.It says'Woof!'\n",
            "Lucy is a Cat with Parsian fur. It says'Meow!'\n"
          ]
        }
      ]
    },
    {
      "cell_type": "markdown",
      "id": "f856028b",
      "metadata": {
        "id": "f856028b"
      },
      "source": [
        "# Write a Python class named Rectangle constructed by a length and width and a method which will compute the area of a rectangle"
      ]
    },
    {
      "cell_type": "code",
      "execution_count": 3,
      "id": "509ca5ef",
      "metadata": {
        "id": "509ca5ef",
        "colab": {
          "base_uri": "https://localhost:8080/"
        },
        "outputId": "f68dab02-deb0-4548-8755-205a6144c08d"
      },
      "outputs": [
        {
          "output_type": "stream",
          "name": "stdout",
          "text": [
            "Enter Length of rectangle: 5\n",
            "Enter width of rectangle: 7\n",
            "The area of the rectangle is 35 square units.\n"
          ]
        }
      ],
      "source": [
        "class Rectangle:\n",
        "  def __init__(self, length, width):\n",
        "    self.length = length\n",
        "    self.width = width\n",
        "\n",
        "  def compute_area(self):\n",
        "    return self.length * self.width\n",
        "\n",
        "length = int(input(\"Enter Length of rectangle: \"))\n",
        "width = int(input(\"Enter width of rectangle: \"))\n",
        "my_rectangle = Rectangle(length, width)\n",
        "area = my_rectangle.compute_area()\n",
        "print(f\"The area of the rectangle is {area} square units.\")"
      ]
    },
    {
      "cell_type": "markdown",
      "id": "e627277a",
      "metadata": {
        "id": "e627277a"
      },
      "source": [
        "## Explain Exception handling? What is an Error in Python?"
      ]
    },
    {
      "cell_type": "markdown",
      "source": [
        "Exception handling is a fundamental concept in programming that allows developers to\n",
        "gracefully manage and respond to unexpected or exceptional situations, often referred to as\n",
        "\"exceptions\" or \"errors,\" that can occur during the execution of a program. These exceptional\n",
        "situations can include things like division by zero, file not found, network errors, and many other\n",
        "unexpected scenarios that can disrupt the normal flow of a program.\n",
        "\n",
        "\n",
        "In Python, an \"error\" generally refers to an issue that occurs during the execution of a\n",
        "program, disrupting its normal flow and potentially causing it to terminate prematurely. Errors\n",
        "in Python are typically classified into three main categories:\n",
        "\n",
        "\n",
        "1. Syntax error\n",
        "2. Runtime error\n",
        "3. Semantic error"
      ],
      "metadata": {
        "id": "6nlaeDe9K7s1"
      },
      "id": "6nlaeDe9K7s1"
    },
    {
      "cell_type": "code",
      "execution_count": 4,
      "id": "f64d868d",
      "metadata": {
        "id": "f64d868d",
        "colab": {
          "base_uri": "https://localhost:8080/",
          "height": 141
        },
        "outputId": "b2d142b5-b29c-43c9-eabf-4a40bb6e3071"
      },
      "outputs": [
        {
          "output_type": "error",
          "ename": "SyntaxError",
          "evalue": "ignored",
          "traceback": [
            "\u001b[0;36m  File \u001b[0;32m\"<ipython-input-4-2c98f0fac39b>\"\u001b[0;36m, line \u001b[0;32m17\u001b[0m\n\u001b[0;31m    <ipython-input-79-7982d9fc4fc2> in <cell line: 3>()\u001b[0m\n\u001b[0m                         ^\u001b[0m\n\u001b[0;31mSyntaxError\u001b[0m\u001b[0;31m:\u001b[0m invalid decimal literal\n"
          ]
        }
      ],
      "source": [
        "if x > 10 # Missing colon\n",
        "print(\"x is greater than 10\")\n",
        "\n",
        "File \"<ipython-input-78-ba80d5703d0b>\", line 1\n",
        "if x > 10 # Missing colon\n",
        "\n",
        "SyntaxError: expected ':'\n",
        "\n",
        "#Runtime error\n",
        "x = 0\n",
        "y = 10 / x # Division by zero will raise a ZeroDivisionError\n",
        "\n",
        "----------------------------------------------------------------------\n",
        "-----\n",
        "ZeroDivisionError                     Traceback (most recent call\n",
        "last)\n",
        "<ipython-input-79-7982d9fc4fc2> in <cell line: 3>()\n",
        "           1 #Runtime error\n",
        "           2 x = 0\n",
        "----> 3 y = 10 / x # Division by zero will raise a ZeroDivisionError\n",
        "\n",
        "ZeroDivisionError: division by zero\n",
        "\n",
        "x = 5\n",
        "y = 10\n",
        "result = x + y * 2\n",
        "\n",
        "# The intended result might be (5 + 10) * 2 = 30,\n",
        "# but the code actually computes (5 + (10 * 2)) = 25.\n",
        "\n",
        "result\n",
        "\n",
        "25\n"
      ]
    },
    {
      "cell_type": "markdown",
      "id": "bed33f31",
      "metadata": {
        "id": "bed33f31"
      },
      "source": [
        "## How many except statements can a try-except block have? Name Some built-in exception classes:"
      ]
    },
    {
      "cell_type": "markdown",
      "source": [
        "In a try-except block in Python, you can have one try block followed by one or more except\n",
        "blocks to handle different types of exceptions. There is no strict limit to the number of except\n",
        "blocks you can have, so you can handle as many exceptions as necessary within the same try\n",
        "block.\n",
        "1. SyntaxError: Raised when there is a syntax error in the code.\n",
        "2. IndentationError: Raised when there is an issue with the indentation of the code\n",
        "(e.g., inconsistent use of tabs and spaces).\n",
        "3. NameError: Raised when a local or global name is not found.\n",
        "4. TypeError: Raised when an operation is performed on an object of an inappropriate\n",
        "type.\n",
        "5. ValueError: Raised when a function receives an argument of the correct type but\n",
        "with an inappropriate value.\n",
        "6. ZeroDivisionError: Raised when attempting to divide by zero.\n",
        "7. IndexError: Raised when trying to access an index that is out of range for a sequence\n",
        "(e.g., list, tuple, or string).\n",
        "8. KeyError: Raised when trying to access a dictionary key that does not exist.\n",
        "9. FileNotFoundError: Raised when trying to open a file that does not exist.\n",
        "10. IOError: Raised for various input/output-related issues.\n",
        "11. AttributeError: Raised when trying to access an attribute or method that does not\n",
        "exist on an object.\n",
        "12. ImportError: Raised when an imported module cannot be found or loaded.\n",
        "13. ModuleNotFoundError: A specific subclass of ImportError raised when a module\n",
        "cannot be found.\n",
        "14. AssertionError: Raised when an assert statement fails.\n",
        "15. TypeError: Raised when an operation or function is applied to an object of\n",
        "inappropriate type.\n",
        "16. EOFError: Raised when trying to read beyond the end of a file.\n",
        "17. KeyboardInterrupt: Raised when the user interrupts the execution of a program,\n",
        "typically by pressing Ctrl+C.\n",
        "18. ArithmeticError: A base class for arithmetic errors like ZeroDivisionError and\n",
        "OverflowError.\n",
        "19. OSError: A base class for various operating system-related errors.\n",
        "20. Exception: The base class for all built-in exceptions in Python."
      ],
      "metadata": {
        "id": "z24Eafk0Mbqx"
      },
      "id": "z24Eafk0Mbqx"
    },
    {
      "cell_type": "markdown",
      "id": "9d89a755",
      "metadata": {
        "id": "9d89a755"
      },
      "source": [
        "## Write python program that user to enter only odd numbers, else will raise an exception."
      ]
    },
    {
      "cell_type": "code",
      "execution_count": 7,
      "id": "fb017904",
      "metadata": {
        "id": "fb017904"
      },
      "outputs": [],
      "source": [
        "def get_odd_number():\n",
        "   while True:\n",
        "    try:\n",
        "      number = int(input(\"Enter an odd number: \"))\n",
        "      if number % 2 == 0:\n",
        "        raise ValueError(\"Even numbers are not allowed. Please enter an odd number.\")\n",
        "      return number\n",
        "    except ValueError as e:\n",
        "      print(e)\n",
        "    try:\n",
        "      odd_number = get_odd_number()\n",
        "      print(f\"You entered an odd number: {odd_number}\")\n",
        "    except KeyboardInterrupt:\n",
        "      print(\"\\nProgram terminated by user.\")\n",
        ""
      ]
    },
    {
      "cell_type": "markdown",
      "id": "e8497bda",
      "metadata": {
        "id": "e8497bda"
      },
      "source": [
        "## Write a Python class named Circle constructed by a radius and two methods which will compute the area and the perimeter of a circle"
      ]
    },
    {
      "cell_type": "code",
      "execution_count": 9,
      "id": "2a6c509d",
      "metadata": {
        "id": "2a6c509d",
        "colab": {
          "base_uri": "https://localhost:8080/"
        },
        "outputId": "13c58590-126e-4cb4-d6a7-8062371638d7"
      },
      "outputs": [
        {
          "output_type": "stream",
          "name": "stdout",
          "text": [
            "Enter radius value: 6\n",
            "Radius: 6\n",
            "Area of Circle: 113.09733552923255\n",
            "Perimeter of Circle: 37.69911184307752\n"
          ]
        }
      ],
      "source": [
        "import math\n",
        "class Circle:\n",
        "  def __init__(self, radius):\n",
        "    self.radius = radius\n",
        "\n",
        "  def area(self):\n",
        "    \"\"\"\n",
        "    Compute the area of the circle.\n",
        "    Formula: pi * radius^2\n",
        "    \"\"\"\n",
        "    return math.pi * self.radius ** 2\n",
        "\n",
        "  def perimeter(self):\n",
        "    \"\"\"\n",
        "    Compute the perimeter (circumference) of the circle.\n",
        "    Formula: 2 * pi * radius\n",
        "    \"\"\"\n",
        "    return 2 * math.pi * self.radius\n",
        "\n",
        "radius = int(input(\"Enter radius value: \"))\n",
        "circle = Circle(radius)\n",
        "print(\"Radius:\", circle.radius)\n",
        "print(\"Area of Circle:\", circle.area())\n",
        "print(\"Perimeter of Circle:\", circle.perimeter())\n",
        "\n"
      ]
    },
    {
      "cell_type": "markdown",
      "id": "fc384afd",
      "metadata": {
        "id": "fc384afd"
      },
      "source": [
        "## Explain Inheritance in Python with an example? What is init? Or What Is A Constructor In Python?"
      ]
    },
    {
      "cell_type": "markdown",
      "source": [
        "Inheritance is a fundamental concept in object-oriented programming (OOP) that allows\n",
        "you to create a new class (called a derived or child class) by inheriting the properties and\n",
        "methods of an existing class (called a base or parent class). This allows you to model a hierarchy\n",
        "of classes where child classes can reuse and extend the functionality of their parent classes."
      ],
      "metadata": {
        "id": "WVf9uM5XXw4V"
      },
      "id": "WVf9uM5XXw4V"
    },
    {
      "cell_type": "code",
      "execution_count": 10,
      "id": "242666cb",
      "metadata": {
        "id": "242666cb",
        "colab": {
          "base_uri": "https://localhost:8080/"
        },
        "outputId": "ca4119a3-7893-4486-afbb-4af027363953"
      },
      "outputs": [
        {
          "output_type": "stream",
          "name": "stdout",
          "text": [
            "Dollar is a Dog of breed Labrador. It says'Woof!'\n",
            "Lucy is a Cat with Parsian fur. It says'Meow!'\n"
          ]
        }
      ],
      "source": [
        "# Parent class\n",
        "class Animal:\n",
        "  def __init__(self, name, species):\n",
        "    self.name = name\n",
        "    self.species = species\n",
        "\n",
        "  def make_sound(self):\n",
        "    pass\n",
        "\n",
        "# Child class\n",
        "class Dog(Animal):\n",
        "  def __init__(self, name, breed):\n",
        "    # Call the constructor of the parent class using super()\n",
        "    super().__init__(name, species=\"Dog\")\n",
        "    self.breed = breed\n",
        "\n",
        "  def make_sound(self):\n",
        "    return \"Woof!\"\n",
        "\n",
        "# Child class\n",
        "class Cat(Animal):\n",
        "  def __init__(self, name, color):\n",
        "    # Call the constructor of the parent class using super()\n",
        "      super().__init__(name, species=\"Cat\")\n",
        "      self.color = color\n",
        "\n",
        "  def make_sound(self):\n",
        "      return \"Meow!\"\n",
        "\n",
        "dog = Dog(\"Dollar\", \"Labrador\")\n",
        "cat = Cat(\"Lucy\", \"Parsian\")\n",
        "\n",
        "# Access attributes and methods of the objects\n",
        "print(f\"{dog.name} is a {dog.species} of breed {dog.breed}. It says'{dog.make_sound()}'\")\n",
        "print(f\"{cat.name} is a {cat.species} with {cat.color} fur. It says'{cat.make_sound()}'\")"
      ]
    },
    {
      "cell_type": "markdown",
      "source": [
        "Ans. In Python, init is a special method, often referred to as a constructor, that is automatically\n",
        "called when you create an instance of a class. The primary purpose of the init method is to\n",
        "initialize the attributes (or properties) of the object being created.\n",
        "\n",
        "init or Constructor\n"
      ],
      "metadata": {
        "id": "aiRZaAL0b4Po"
      },
      "id": "aiRZaAL0b4Po"
    },
    {
      "cell_type": "markdown",
      "id": "ca9350b1",
      "metadata": {
        "id": "ca9350b1"
      },
      "source": [
        "## What is Instantiation in terms of OOP terminology?\n",
        "\n"
      ]
    },
    {
      "cell_type": "markdown",
      "source": [
        "Ans. In object-oriented programming (OOP), \"instantiation\" refers to the process of creating an\n",
        "instance or object of a class. When you instantiate a class, you create a specific instance of that\n",
        "class with its own unique set of attributes and methods. These instances are often referred to as\n",
        "objects.\n",
        "\n",
        "Here are the key points to understand about instantiation in OOP terminology:\n",
        "1. Class Definition\n",
        "2. Object Creation\n",
        "3. Instance Variables\n",
        "4. Methods: Here's a simple example in Python:\n"
      ],
      "metadata": {
        "id": "jjbWyjG6b_3L"
      },
      "id": "jjbWyjG6b_3L"
    },
    {
      "cell_type": "code",
      "execution_count": 11,
      "id": "5d864c6e",
      "metadata": {
        "id": "5d864c6e",
        "colab": {
          "base_uri": "https://localhost:8080/"
        },
        "outputId": "ca07c162-cc9c-4d74-c752-43d9e9fb72ab"
      },
      "outputs": [
        {
          "output_type": "stream",
          "name": "stdout",
          "text": [
            "Rocky\n",
            "5\n",
            "Rocky says Woof!\n"
          ]
        }
      ],
      "source": [
        "class Dog:\n",
        "  def __init__(self, name, age):\n",
        "    self.name = name\n",
        "    self.age = age\n",
        "\n",
        "  def bark(self):\n",
        "    return f\"{self.name} says Woof!\"\n",
        "\n",
        "# Instantiating two Dog objects\n",
        "dog1 = Dog(\"Rocky\", 3)\n",
        "dog2 = Dog(\"Rex\", 5)\n",
        "\n",
        "# Accessing instance variables\n",
        "print(dog1.name)\n",
        "print(dog2.age)\n",
        "\n",
        "# Calling a method on objects\n",
        "print(dog1.bark())"
      ]
    }
  ],
  "metadata": {
    "kernelspec": {
      "display_name": "Python 3 (ipykernel)",
      "language": "python",
      "name": "python3"
    },
    "language_info": {
      "codemirror_mode": {
        "name": "ipython",
        "version": 3
      },
      "file_extension": ".py",
      "mimetype": "text/x-python",
      "name": "python",
      "nbconvert_exporter": "python",
      "pygments_lexer": "ipython3",
      "version": "3.8.8"
    },
    "vscode": {
      "interpreter": {
        "hash": "2043299c89c8cd0b4d1a6f5cf4529bd58e6a4e0fe3181a25e0d328c821cdc5c5"
      }
    },
    "colab": {
      "provenance": [],
      "include_colab_link": true
    }
  },
  "nbformat": 4,
  "nbformat_minor": 5
}